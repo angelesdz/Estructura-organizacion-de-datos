{
  "nbformat": 4,
  "nbformat_minor": 0,
  "metadata": {
    "colab": {
      "provenance": [],
      "authorship_tag": "ABX9TyMoWElqtVclMMoN49Fxx8Eo",
      "include_colab_link": true
    },
    "kernelspec": {
      "name": "python3",
      "display_name": "Python 3"
    },
    "language_info": {
      "name": "python"
    }
  },
  "cells": [
    {
      "cell_type": "markdown",
      "metadata": {
        "id": "view-in-github",
        "colab_type": "text"
      },
      "source": [
        "<a href=\"https://colab.research.google.com/github/angelesdz/Estructura-organizacion-de-datos/blob/main/ACT3.ipynb\" target=\"_parent\"><img src=\"https://colab.research.google.com/assets/colab-badge.svg\" alt=\"Open In Colab\"/></a>"
      ]
    },
    {
      "cell_type": "code",
      "execution_count": 1,
      "metadata": {
        "colab": {
          "base_uri": "https://localhost:8080/"
        },
        "id": "IO_-F_knCU8b",
        "outputId": "8f1903e1-82af-4919-ea64-1806c33d1f54"
      },
      "outputs": [
        {
          "output_type": "stream",
          "name": "stdout",
          "text": [
            "saliste de la lista\n",
            "[2.1, 2.5, 3.6, 4, 5]\n",
            "[2.1, 2.5, 3.6, 4, 5, 6]\n"
          ]
        }
      ],
      "source": [
        "factura=[\"pan\",\"carne\",100,1234]\n",
        "##print(factura[-3])\n",
        "try:\n",
        "    print(factura[-5])\n",
        "except:\n",
        "    print(\"saliste de la lista\")\n",
        "numero=[2.1,2.5,3.6,4,5]\n",
        "print(numero)\n",
        "numero.append(6)\n",
        "print(numero)"
      ]
    },
    {
      "cell_type": "code",
      "source": [
        "numero=[2.1,2.5,3.6,4,5,6]\n",
        "print(\"6 aparece \",numero.count(6),\"ves\")"
      ],
      "metadata": {
        "colab": {
          "base_uri": "https://localhost:8080/"
        },
        "id": "W4IE2NPGCYPz",
        "outputId": "ccdb9740-487d-4bb2-a879-cb352b65149e"
      },
      "execution_count": 2,
      "outputs": [
        {
          "output_type": "stream",
          "name": "stdout",
          "text": [
            "6 aparece  1 ves\n"
          ]
        }
      ]
    },
    {
      "cell_type": "code",
      "source": [
        "numero=[1,2,3]\n",
        "numero.extend([4])\n",
        "print(numero)\n",
        "numero.extend(range(5,10))\n",
        "print(numero)"
      ],
      "metadata": {
        "colab": {
          "base_uri": "https://localhost:8080/"
        },
        "id": "0qVYhO5hCcps",
        "outputId": "2faa839b-784b-432a-9dd6-29a84f007e9f"
      },
      "execution_count": 3,
      "outputs": [
        {
          "output_type": "stream",
          "name": "stdout",
          "text": [
            "[1, 2, 3, 4]\n",
            "[1, 2, 3, 4, 5, 6, 7, 8, 9]\n"
          ]
        }
      ]
    },
    {
      "cell_type": "code",
      "source": [
        "numero=[2.1,2.5,3.6,4,5,6,4]\n",
        "  print(numero.index(9))\n",
        "###print(numero.index(4, 5))"
      ],
      "metadata": {
        "colab": {
          "base_uri": "https://localhost:8080/",
          "height": 130
        },
        "id": "GsirRILKCi8d",
        "outputId": "19e41407-1322-44fd-bcf5-d69b8c1ebe7f"
      },
      "execution_count": 5,
      "outputs": [
        {
          "output_type": "error",
          "ename": "IndentationError",
          "evalue": "ignored",
          "traceback": [
            "\u001b[0;36m  File \u001b[0;32m\"<ipython-input-5-01e10f722918>\"\u001b[0;36m, line \u001b[0;32m2\u001b[0m\n\u001b[0;31m    print(numero.index(9))\u001b[0m\n\u001b[0m    ^\u001b[0m\n\u001b[0;31mIndentationError\u001b[0m\u001b[0;31m:\u001b[0m unexpected indent\n"
          ]
        }
      ]
    },
    {
      "cell_type": "code",
      "source": [
        "numero=[2.1,2.5,3.6,4,5,6,4]\n",
        "numero.insert(2,3.7)\n",
        "print(numero)"
      ],
      "metadata": {
        "colab": {
          "base_uri": "https://localhost:8080/"
        },
        "id": "xEx6wFezCyDZ",
        "outputId": "7c983e91-cdbc-4f25-f516-e7c551cb2556"
      },
      "execution_count": 6,
      "outputs": [
        {
          "output_type": "stream",
          "name": "stdout",
          "text": [
            "[2.1, 2.5, 3.7, 3.6, 4, 5, 6, 4]\n"
          ]
        }
      ]
    },
    {
      "cell_type": "code",
      "source": [
        "numero=[2.1,2.5,3.6,4,5,6,4]\n",
        "print(numero.pop(2))\n",
        "print(numero)"
      ],
      "metadata": {
        "colab": {
          "base_uri": "https://localhost:8080/"
        },
        "id": "FCEWTMReCyfa",
        "outputId": "de3bebc0-15e7-46a1-cb80-0bd6bcde5b08"
      },
      "execution_count": 7,
      "outputs": [
        {
          "output_type": "stream",
          "name": "stdout",
          "text": [
            "3.6\n",
            "[2.1, 2.5, 4, 5, 6, 4]\n"
          ]
        }
      ]
    },
    {
      "cell_type": "code",
      "source": [
        "numero=[2.1,2.5,3.6,4,5,6,4]\n",
        "numero.remove(4)\n",
        "print(numero)"
      ],
      "metadata": {
        "colab": {
          "base_uri": "https://localhost:8080/"
        },
        "id": "k4jwbSnmC3p4",
        "outputId": "5951c9c1-1bc2-4fe6-b337-63ebb6262f40"
      },
      "execution_count": 8,
      "outputs": [
        {
          "output_type": "stream",
          "name": "stdout",
          "text": [
            "[2.1, 2.5, 3.6, 5, 6, 4]\n"
          ]
        }
      ]
    }
  ]
}