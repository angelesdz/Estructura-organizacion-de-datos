{
  "nbformat": 4,
  "nbformat_minor": 0,
  "metadata": {
    "colab": {
      "provenance": [],
      "authorship_tag": "ABX9TyMg6dPKam0FR0dlOJGO1Gxd",
      "include_colab_link": true
    },
    "kernelspec": {
      "name": "python3",
      "display_name": "Python 3"
    },
    "language_info": {
      "name": "python"
    }
  },
  "cells": [
    {
      "cell_type": "markdown",
      "metadata": {
        "id": "view-in-github",
        "colab_type": "text"
      },
      "source": [
        "<a href=\"https://colab.research.google.com/github/angelesdz/Estructura-organizacion-de-datos/blob/main/HANOI.ipynb\" target=\"_parent\"><img src=\"https://colab.research.google.com/assets/colab-badge.svg\" alt=\"Open In Colab\"/></a>"
      ]
    },
    {
      "cell_type": "code",
      "source": [
        "def hanoi(n, pivote_inicial, pivote_final, pivote_auxiliar):\n",
        "  if n==1:\n",
        "    print(pivote_final + \"-->\"+ pivote_final)\n",
        "  else:\n",
        "    hanoi(n-1, pivote_inicial, pivote_auxiliar, pivote_final)\n",
        "    print(pivote_inicial + \"-->\" + pivote_final)\n",
        "    hanoi(n-1, pivote_auxiliar, pivote_final, pivote_inicial)\n",
        "\n",
        "hanoi(3,\"0\", \"2\", \"1\")"
      ],
      "metadata": {
        "colab": {
          "base_uri": "https://localhost:8080/"
        },
        "id": "eyGfLwuknvm_",
        "outputId": "95b3487f-efcf-41f6-e467-91d464553405"
      },
      "execution_count": 1,
      "outputs": [
        {
          "output_type": "stream",
          "name": "stdout",
          "text": [
            "2-->2\n",
            "0-->1\n",
            "1-->1\n",
            "0-->2\n",
            "0-->0\n",
            "1-->2\n",
            "2-->2\n"
          ]
        }
      ]
    }
  ]
}