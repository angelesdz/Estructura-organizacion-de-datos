{
  "nbformat": 4,
  "nbformat_minor": 0,
  "metadata": {
    "colab": {
      "provenance": [],
      "authorship_tag": "ABX9TyOuJb6bLJekdnfLg3q86t54",
      "include_colab_link": true
    },
    "kernelspec": {
      "name": "python3",
      "display_name": "Python 3"
    },
    "language_info": {
      "name": "python"
    }
  },
  "cells": [
    {
      "cell_type": "markdown",
      "metadata": {
        "id": "view-in-github",
        "colab_type": "text"
      },
      "source": [
        "<a href=\"https://colab.research.google.com/github/angelesdz/Estructura-organizacion-de-datos/blob/main/Apilar.ipynb\" target=\"_parent\"><img src=\"https://colab.research.google.com/assets/colab-badge.svg\" alt=\"Open In Colab\"/></a>"
      ]
    },
    {
      "cell_type": "code",
      "source": [
        "class Pila:\n",
        "  def __init__(self):\n",
        "    self.items=[]\n",
        "  def apilar(self,x):\n",
        "    self.items.append(x)\n",
        "  def desapilar(self):\n",
        "    try:\n",
        "        return self.items.pop()\n",
        "    except IndexError:\n",
        "        raise ValueError(\"La pila está vacía\")\n",
        "  def es_vacia(self):\n",
        "    return self.items == []\n",
        "  from clase import Pila\n",
        "  p = Pila()\n",
        "  p.es_vacia()"
      ],
      "metadata": {
        "id": "mXRFj45J1gpd"
      },
      "execution_count": 9,
      "outputs": []
    }
  ]
}