{
  "nbformat": 4,
  "nbformat_minor": 0,
  "metadata": {
    "colab": {
      "provenance": [],
      "authorship_tag": "ABX9TyNGdz2K8rVLpBIzVnAztRcN",
      "include_colab_link": true
    },
    "kernelspec": {
      "name": "python3",
      "display_name": "Python 3"
    },
    "language_info": {
      "name": "python"
    }
  },
  "cells": [
    {
      "cell_type": "markdown",
      "metadata": {
        "id": "view-in-github",
        "colab_type": "text"
      },
      "source": [
        "<a href=\"https://colab.research.google.com/github/angelesdz/Estructura-organizacion-de-datos/blob/main/ArreglosE3_ADZ.ipynb\" target=\"_parent\"><img src=\"https://colab.research.google.com/assets/colab-badge.svg\" alt=\"Open In Colab\"/></a>"
      ]
    },
    {
      "cell_type": "code",
      "source": [
        "class Arreglos:\n",
        "    def __init__(self):\n",
        "        self.nombre = \"\"\n",
        "        self.apellidoP = \" \"\n",
        "        self.apellidoM = \" \"\n",
        "\n",
        "    def entrada(self):\n",
        "        self.nombre = input(\"Ingresa tu nombre   \")\n",
        "        self.apellidoP = input (\"Ingresa tu apellido PATERNO \")\n",
        "        self.apellidoM = input (\"Ingresa tu apellido MATERNO \")\n",
        "\n",
        "    def proceso(self):\n",
        "          nombreComp = []\n",
        "          nombreComp.append(self.nombre)\n",
        "          nombreComp.append(self.apellidoP)\n",
        "          nombreComp.append(self.apellidoM)\n",
        "          print(nombreComp)\n",
        "obj = Arreglos()\n",
        "obj.entrada()\n",
        "obj.proceso()"
      ],
      "metadata": {
        "colab": {
          "base_uri": "https://localhost:8080/"
        },
        "id": "mva98Mz-vUoo",
        "outputId": "fb8d266f-9e84-481d-872b-21103673bf4a"
      },
      "execution_count": 1,
      "outputs": [
        {
          "output_type": "stream",
          "name": "stdout",
          "text": [
            "Ingresa tu nombre   Angeles\n",
            "Ingresa tu apellido PATERNO Díaz \n",
            "Ingresa tu apellido MATERNO Zamorano\n",
            "['Angeles', 'Díaz ', 'Zamorano']\n"
          ]
        }
      ]
    }
  ]
}