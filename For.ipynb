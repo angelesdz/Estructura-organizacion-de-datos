{
  "nbformat": 4,
  "nbformat_minor": 0,
  "metadata": {
    "colab": {
      "provenance": [],
      "authorship_tag": "ABX9TyM688IzUn/6u8rdWoognkeb",
      "include_colab_link": true
    },
    "kernelspec": {
      "name": "python3",
      "display_name": "Python 3"
    },
    "language_info": {
      "name": "python"
    }
  },
  "cells": [
    {
      "cell_type": "markdown",
      "metadata": {
        "id": "view-in-github",
        "colab_type": "text"
      },
      "source": [
        "<a href=\"https://colab.research.google.com/github/angelesdz/Estructura-organizacion-de-datos/blob/main/For.ipynb\" target=\"_parent\"><img src=\"https://colab.research.google.com/assets/colab-badge.svg\" alt=\"Open In Colab\"/></a>"
      ]
    },
    {
      "cell_type": "markdown",
      "source": [
        "For con números pares e impares"
      ],
      "metadata": {
        "id": "zBP56TdQ-cur"
      }
    },
    {
      "cell_type": "code",
      "execution_count": 1,
      "metadata": {
        "colab": {
          "base_uri": "https://localhost:8080/"
        },
        "id": "0Nqw6WvB-MGj",
        "outputId": "3de8d53c-6da8-4733-87e4-a50e02b3e4ff"
      },
      "outputs": [
        {
          "output_type": "stream",
          "name": "stdout",
          "text": [
            "2\n",
            "4\n",
            "5\n"
          ]
        }
      ],
      "source": [
        "coleccion = [2, 4, 5, 7, 8, 9, 3, 4]\n",
        "for e in coleccion:\n",
        "    if e == 7:\n",
        "        break\n",
        "    print(e)"
      ]
    },
    {
      "cell_type": "markdown",
      "source": [
        "For implementando RANGO\n"
      ],
      "metadata": {
        "id": "EcAdfvn8-XI9"
      }
    },
    {
      "cell_type": "code",
      "source": [
        "for i in range(5):\n",
        "    print(i, end=\", \")"
      ],
      "metadata": {
        "colab": {
          "base_uri": "https://localhost:8080/"
        },
        "id": "wciTDY20-bKn",
        "outputId": "6235538c-e1b2-4b8b-dd0c-06219fdf92eb"
      },
      "execution_count": 2,
      "outputs": [
        {
          "output_type": "stream",
          "name": "stdout",
          "text": [
            "0, 1, 2, 3, 4, "
          ]
        }
      ]
    },
    {
      "cell_type": "markdown",
      "source": [
        "For con números PARES\n"
      ],
      "metadata": {
        "id": "ELOqpm1O-sTm"
      }
    },
    {
      "cell_type": "code",
      "source": [
        "for i in range(5):\n",
        "    print(i, end=\", \")"
      ],
      "metadata": {
        "colab": {
          "base_uri": "https://localhost:8080/"
        },
        "id": "uYQ66Dz3-jFP",
        "outputId": "2c4f6842-e556-43cc-d7b6-838e39a70795"
      },
      "execution_count": 3,
      "outputs": [
        {
          "output_type": "stream",
          "name": "stdout",
          "text": [
            "0, 1, 2, 3, 4, "
          ]
        }
      ]
    },
    {
      "cell_type": "markdown",
      "source": [
        "For con RANGO extrayendo LETRAS"
      ],
      "metadata": {
        "id": "YY9SMpvk-5rI"
      }
    },
    {
      "cell_type": "code",
      "source": [
        "valores = {'A': 4, 'E': 3, 'I': 1, 'O': 0}\n",
        "for k in valores:\n",
        "    print(k)"
      ],
      "metadata": {
        "colab": {
          "base_uri": "https://localhost:8080/"
        },
        "id": "UXJUKXMU-_Za",
        "outputId": "601e15d8-328e-4608-bc71-a3e0b280943c"
      },
      "execution_count": 4,
      "outputs": [
        {
          "output_type": "stream",
          "name": "stdout",
          "text": [
            "A\n",
            "E\n",
            "I\n",
            "O\n"
          ]
        }
      ]
    },
    {
      "cell_type": "markdown",
      "source": [
        "FOR con Rango extrayendo Numeros"
      ],
      "metadata": {
        "id": "3NW6IgFj_GPh"
      }
    },
    {
      "cell_type": "code",
      "source": [
        "valores = {'A': 4, 'E': 3, 'I': 1, 'O': 0}\n",
        "for v in valores.values():\n",
        "    print(v)"
      ],
      "metadata": {
        "colab": {
          "base_uri": "https://localhost:8080/"
        },
        "id": "XVwiXGfr_Kdb",
        "outputId": "96da5f1b-b09d-4a1a-a4eb-716e192e152e"
      },
      "execution_count": 5,
      "outputs": [
        {
          "output_type": "stream",
          "name": "stdout",
          "text": [
            "4\n",
            "3\n",
            "1\n",
            "0\n"
          ]
        }
      ]
    },
    {
      "cell_type": "markdown",
      "source": [
        "For en LISTA"
      ],
      "metadata": {
        "id": "Xt_lq1xU_UPV"
      }
    },
    {
      "cell_type": "code",
      "source": [
        "lista =[(1,2),(9,8)]\n",
        "for a,b in lista:\n",
        "  print(\"a :\",a , \"b :\",b)"
      ],
      "metadata": {
        "id": "4wQXf4yl_Z6v",
        "outputId": "5a0b2532-8478-44ea-a2ca-fb96e148b497",
        "colab": {
          "base_uri": "https://localhost:8080/"
        }
      },
      "execution_count": 6,
      "outputs": [
        {
          "output_type": "stream",
          "name": "stdout",
          "text": [
            "a : 1 b : 2\n",
            "a : 9 b : 8\n"
          ]
        }
      ]
    }
  ]
}