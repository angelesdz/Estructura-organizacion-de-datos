{
  "nbformat": 4,
  "nbformat_minor": 0,
  "metadata": {
    "colab": {
      "provenance": [],
      "authorship_tag": "ABX9TyNoIry4MQEv2fKJ+cWufmig",
      "include_colab_link": true
    },
    "kernelspec": {
      "name": "python3",
      "display_name": "Python 3"
    },
    "language_info": {
      "name": "python"
    }
  },
  "cells": [
    {
      "cell_type": "markdown",
      "metadata": {
        "id": "view-in-github",
        "colab_type": "text"
      },
      "source": [
        "<a href=\"https://colab.research.google.com/github/angelesdz/Estructura-organizacion-de-datos/blob/main/Men%C3%BAPlatillos.ipynb\" target=\"_parent\"><img src=\"https://colab.research.google.com/assets/colab-badge.svg\" alt=\"Open In Colab\"/></a>"
      ]
    },
    {
      "cell_type": "code",
      "execution_count": null,
      "metadata": {
        "colab": {
          "base_uri": "https://localhost:8080/"
        },
        "id": "a9GZI3HNs2vd",
        "outputId": "7df5676a-cb94-49b4-e38a-ce15953546fb"
      },
      "outputs": [
        {
          "metadata": {
            "tags": null
          },
          "name": "stdout",
          "output_type": "stream",
          "text": [
            "[['Hamburguesa', 'Coca', 'Angeles']]\n"
          ]
        }
      ],
      "source": [
        "comidas = [\"Tacos\", \"Torta\", \"Pizza\", \"Platillo\", \"Hamburguesa\"]\n",
        "bebidas = [\"Coca\", \"Agua\", \"Jugo\", \"Cafe\", \"Leche\"]\n",
        "postres = [\"Pay\", \"Pastel\", \"Flan\", \"Yoghurt\", \"Helado\"]\n",
        "comensales = []\n",
        "entrega = []\n",
        "def Despachar():\n",
        "    pedido= []\n",
        "    comensales.append(input(\"Ingresa tu nombre:    \"))\n",
        "    try:\n",
        "        pedido.append(comidas.pop())\n",
        "    except:\n",
        "        print(\"No hay comida disponible \")\n",
        "    try:\n",
        "        pedido.append(bebidas.pop(0))\n",
        "    except:\n",
        "        print(\"No hay bebidas disponibles\")\n",
        "    try:\n",
        "        op = \"\"\n",
        "        op = (input(\"Elija una opcion de postre:   Pay , Pastel , Flan, Yoghurt , Helado      \"))\n",
        "        if op == \"Pay\":\n",
        "            pedido.append(postres.pop(0))\n",
        "        elif op == \"Pastel\":\n",
        "            pedido.append(postres.pop(1))\n",
        "        elif op == \"Flan\":\n",
        "            pedido.append(postres.pop(2))\n",
        "        elif op == \"Yoghurt\":\n",
        "            pedido.append(postres.pop(3))\n",
        "        elif op == \"Helado\":\n",
        "            pedido.append(postres.pop(4))\n",
        "    except:\n",
        "        print(\"No hay postres disponibles\")\n",
        "    pedido.append(comensales[-1])\n",
        "    entrega.append(pedido)\n",
        "    print(entrega)\n",
        "def menu(): \n",
        "    op2 = 0\n",
        "    op2 = input(\"¿Desea despachar a otro comensal? S/N \")\n",
        "    if op2 == \"S\":\n",
        "        Despachar()\n",
        "    else:\n",
        "        print(\"Decidio terminar el programa\")\n",
        "Despachar()\n",
        "menu()"
      ]
    }
  ]
}