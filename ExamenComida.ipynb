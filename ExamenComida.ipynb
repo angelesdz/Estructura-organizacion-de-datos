{
  "nbformat": 4,
  "nbformat_minor": 0,
  "metadata": {
    "colab": {
      "provenance": [],
      "authorship_tag": "ABX9TyNCkcem5trDQIp1kbSm74LO",
      "include_colab_link": true
    },
    "kernelspec": {
      "name": "python3",
      "display_name": "Python 3"
    },
    "language_info": {
      "name": "python"
    }
  },
  "cells": [
    {
      "cell_type": "markdown",
      "metadata": {
        "id": "view-in-github",
        "colab_type": "text"
      },
      "source": [
        "<a href=\"https://colab.research.google.com/github/angelesdz/Estructura-organizacion-de-datos/blob/main/ExamenComida.ipynb\" target=\"_parent\"><img src=\"https://colab.research.google.com/assets/colab-badge.svg\" alt=\"Open In Colab\"/></a>"
      ]
    },
    {
      "cell_type": "code",
      "source": [
        "      op= 0\n",
        "      print(\"Opción 1, Recibir alimentos\")\n",
        "      print(\"Opción 2, Ingresar comida\")\n",
        "      print(\"Opción 3, Ingresar postre\")\n",
        "      print(\"Opción 4, Ingresar bebida\")\n",
        "      print(\"Opción 5, SALIR\")\n",
        "      comida=[]\n",
        "      postre=[]\n",
        "      bebida=[]\n",
        "      cliente=[]\n",
        "      entregas=[]\n",
        "      x=[]\n",
        "      def lista(op):\n",
        "          while op!=5:\n",
        "            op=int(input(\"Elija una opción: \"))\n",
        "            x=[]\n",
        "          if op ==1:\n",
        "            entregarAlimentos(x,entregas)\n",
        "          elif op ==2:\n",
        "            guardarComida(comida)\n",
        "          elif op ==3:\n",
        "            guardarPostre(postre)\n",
        "          elif op ==4:\n",
        "            guardarBebida(bebida)\n",
        "          else:\n",
        "            print(\"¡Que te vaya bonito!\")\n",
        "      def entregarAlimentos(x,entregas):\n",
        "          cliente.append(input(\"Ingresa tu nombre: \"))\n",
        "          try:\n",
        "              x.append(comida.pop(0))\n",
        "          except:\n",
        "              print(\"Por el momento no hay comida\")\n",
        "          try:\n",
        "              x.append(postre.pop())\n",
        "          except:\n",
        "              print(\"Por el momento no hay postre\")\n",
        "          try:\n",
        "              x.append(bebida.pop())\n",
        "          except:\n",
        "              print(\"Por el momento no hay bebida\")\n",
        "              x.append(clientes[-1])\n",
        "              entregas.append(x)\n",
        "              print(entregas)\n",
        "      def guardarComida(comida):\n",
        "        if len(comida) <=4:\n",
        "          comida.append(input(\"Ingresa la comida que hay actualmente disponible: \"))\n",
        "          print(comida)\n",
        "        else:\n",
        "          print(\"Ya no se puede introdir más comida\")\n",
        "        def capturarPostre(postre):\n",
        "          if len(postre) <=4:\n",
        "            postre.append(input(\"Introduce la cantidad de postres disponibles\"))\n",
        "          else:\n",
        "            print(\"Ya no se pueden ingresar más postres\")\n",
        "        def capturarBebida(bebida):\n",
        "          if len(bebida) <=4:\n",
        "            bebida.append(input(\"Introduce la cantidad de bebidas disponibles: \"))\n",
        "            print(bebida)\n",
        "          else:\n",
        "            print(\"Ya no se pueden introducir bebidas\")\n",
        "lista(op)"
      ],
      "metadata": {
        "id": "53_gjWwbj0JR"
      },
      "execution_count": null,
      "outputs": []
    }
  ]
}