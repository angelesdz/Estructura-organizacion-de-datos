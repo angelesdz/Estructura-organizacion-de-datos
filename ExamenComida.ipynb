{
  "cells": [
    {
      "cell_type": "markdown",
      "metadata": {
        "id": "view-in-github",
        "colab_type": "text"
      },
      "source": [
        "<a href=\"https://colab.research.google.com/github/angelesdz/Estructura-organizacion-de-datos/blob/main/ExamenComida.ipynb\" target=\"_parent\"><img src=\"https://colab.research.google.com/assets/colab-badge.svg\" alt=\"Open In Colab\"/></a>"
      ]
    },
    {
      "cell_type": "code",
      "execution_count": null,
      "metadata": {
        "id": "53_gjWwbj0JR"
      },
      "outputs": [],
      "source": [
        "Comida =[]\n",
        "Postre =[]\n",
        "Bebida =[]\n",
        "Comensal =[]\n",
        "Entregas =[]\n",
        "def Comida(x):\n",
        "  Comida.append(x)\n",
        "  return Comida\n",
        "\n",
        "def Bebida(y):\n",
        "  Bebida.append(y)\n",
        "  return Bebida\n",
        "\n",
        "def Postre(z):\n",
        "  Postre.append(z)\n",
        "  return Postre\n",
        "\n",
        "def Atender():\n",
        "  Comensal.append(input(\"Captura tu nombre: \"))\n",
        "  despacho = []\n",
        "  try:\n",
        "    despacho.append(Comida.pop(0))\n",
        "  except:\n",
        "    print(\"Por el momento no hay comida\")\n",
        "  try:\n",
        "    despacho.append(Postre.pop())\n",
        "  except:\n",
        "    print(\"Por el momento no hay postre\")\n",
        "  try:\n",
        "    despacho.append(Bebida.pop())\n",
        "  except:\n",
        "    print(\"Por el momento no hay bebida\")\n",
        "  despacho.append(Comensal[-1])\n",
        "  despacho.append(despacho)\n",
        "  print(despacho)\n",
        "\n",
        "op = 0 \n",
        "while op != 5:\n",
        "  op = int(input(\"Selecciona la opción que decees: 1.Ingresar Comida 2.Ingresar Bebida 3.Ingresar postre 4.Atender 5.Salir del programa\"))\n",
        "  if op==1:\n",
        "    if len(comida) < 5:\n",
        "      x = input(\"Captura la comida que tienes disponibles: \")\n",
        "      print(comida(x))\n",
        "  elif op ==2:\n",
        "    if len(Bebida) < 5:\n",
        "      y = input(\"Captura las bebidas que tienes disponibles: \")\n",
        "      print(Bebida(x))\n",
        "  elif op ==3:\n",
        "    if len(Postre) < 5:\n",
        "      z = input(\"Captura los postres que tienes disponibles: \")\n",
        "      print(Postre(x))\n",
        "  elif op ==4:\n",
        "    Atender()\n",
        "    print(\"¡Que te vaya bonito!\")"
      ]
    }
  ],
  "metadata": {
    "colab": {
      "provenance": [],
      "authorship_tag": "ABX9TyN54wetBbalU8cXINpkK3Eo",
      "include_colab_link": true
    },
    "kernelspec": {
      "display_name": "Python 3",
      "name": "python3"
    },
    "language_info": {
      "name": "python"
    }
  },
  "nbformat": 4,
  "nbformat_minor": 0
}