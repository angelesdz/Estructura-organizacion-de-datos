{
  "nbformat": 4,
  "nbformat_minor": 0,
  "metadata": {
    "colab": {
      "provenance": [],
      "authorship_tag": "ABX9TyMi7HkcW9U4NMTCVxEHxNoZ",
      "include_colab_link": true
    },
    "kernelspec": {
      "name": "python3",
      "display_name": "Python 3"
    },
    "language_info": {
      "name": "python"
    }
  },
  "cells": [
    {
      "cell_type": "markdown",
      "metadata": {
        "id": "view-in-github",
        "colab_type": "text"
      },
      "source": [
        "<a href=\"https://colab.research.google.com/github/angelesdz/Estructura-organizacion-de-datos/blob/main/Ex_Eje1.ipynb\" target=\"_parent\"><img src=\"https://colab.research.google.com/assets/colab-badge.svg\" alt=\"Open In Colab\"/></a>"
      ]
    },
    {
      "cell_type": "code",
      "source": [
        "def main():\n",
        "    entrada = input(\"Introduce los numeros a verificar: \")\n",
        "    numeros = set(entrada.split())\n",
        "    numero_maximo = maximo(numeros)\n",
        "    print(f\"El maximo es {numero_maximo}\")\n",
        "def maximo(numeros):\n",
        "    numero = int(numeros.pop())\n",
        "    if(len(numeros) == 0):\n",
        "        return numero\n",
        "    maximo_actual = maximo(numeros)\n",
        "    return maximo_actual if maximo_actual > numero else numero\n",
        "if __name__ == \"__main__\":\n",
        "    main()"
      ],
      "metadata": {
        "colab": {
          "base_uri": "https://localhost:8080/"
        },
        "id": "rvl_yPcqEAbG",
        "outputId": "262a4d11-e408-40ef-ae82-767c49a95448"
      },
      "execution_count": 9,
      "outputs": [
        {
          "output_type": "stream",
          "name": "stdout",
          "text": [
            "Introduce los numeros a verificar: 5 9 15\n",
            "El maximo es 15\n"
          ]
        }
      ]
    }
  ]
}