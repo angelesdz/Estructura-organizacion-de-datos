{
  "nbformat": 4,
  "nbformat_minor": 0,
  "metadata": {
    "colab": {
      "provenance": [],
      "authorship_tag": "ABX9TyMinrHRx25KFQC9IIiaU0Oe",
      "include_colab_link": true
    },
    "kernelspec": {
      "name": "python3",
      "display_name": "Python 3"
    },
    "language_info": {
      "name": "python"
    }
  },
  "cells": [
    {
      "cell_type": "markdown",
      "metadata": {
        "id": "view-in-github",
        "colab_type": "text"
      },
      "source": [
        "<a href=\"https://colab.research.google.com/github/angelesdz/Estructura-organizacion-de-datos/blob/main/ColaParametros.ipynb\" target=\"_parent\"><img src=\"https://colab.research.google.com/assets/colab-badge.svg\" alt=\"Open In Colab\"/></a>"
      ]
    },
    {
      "cell_type": "code",
      "source": [
        "class Cola:\n",
        "    def __init__(self):\n",
        "        self.items = [] \n",
        "\n",
        "    def encolar(self, x):\n",
        "      self.items.append(x)\n",
        "      return self.items\n",
        "\n",
        "    def desencolar(self):\n",
        "        try:\n",
        "            print(self.items.pop(0))\n",
        "            print(self.items)\n",
        "        except:\n",
        "            print(\"La cola esta vacia\")\n",
        "\n",
        "    def es_vacia(self):\n",
        "        if self.items == []:\n",
        "          print(\"La cola esta vacia\")\n",
        "        else:\n",
        "          print(\"La cola no esta vacia: \", self.items)\n",
        "\n",
        "\n",
        "obj= Cola()\n",
        "op= 0\n",
        "while op != 4:\n",
        "  print(\"Opcion 1: Agregar elemento al final\")\n",
        "  print(\"Opcion 2: Eliminar primer elemento\")\n",
        "  print(\"Opcion 3: Revisar si esta vacia la cola\")\n",
        "  op= int(input(\"Elija una opcion\"))\n",
        "  if op == 1:\n",
        "    x = input(\"Ingresa un elemento: \")\n",
        "    print(obj.encolar(x))\n",
        "  elif op ==2:\n",
        "    obj.desencolar()\n",
        "  elif op == 3:\n",
        "    obj.es_vacia()\n",
        "  else:\n",
        "    print(\"Opcion incorrecta\")\n",
        "print(\"ADIOS\")"
      ],
      "metadata": {
        "colab": {
          "base_uri": "https://localhost:8080/"
        },
        "id": "Zl2qWDWtlv5-",
        "outputId": "470751bb-a1a0-4256-e0ca-fb67412ae3e2"
      },
      "execution_count": null,
      "outputs": [
        {
          "output_type": "stream",
          "name": "stdout",
          "text": [
            "Opcion 1: Agregar elemento al final\n",
            "Opcion 2: Eliminar primer elemento\n",
            "Opcion 3: Revisar si esta vacia la cola\n",
            "Ingresa un elemento: 2\n",
            "['2']\n",
            "Opcion 1: Agregar elemento al final\n",
            "Opcion 2: Eliminar primer elemento\n",
            "Opcion 3: Revisar si esta vacia la cola\n"
          ]
        }
      ]
    }
  ]
}