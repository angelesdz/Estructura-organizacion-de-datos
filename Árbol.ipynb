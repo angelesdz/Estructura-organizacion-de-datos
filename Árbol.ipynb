{
  "nbformat": 4,
  "nbformat_minor": 0,
  "metadata": {
    "colab": {
      "provenance": [],
      "authorship_tag": "ABX9TyNfwmKqc6UuMJC4CViwg/55",
      "include_colab_link": true
    },
    "kernelspec": {
      "name": "python3",
      "display_name": "Python 3"
    },
    "language_info": {
      "name": "python"
    }
  },
  "cells": [
    {
      "cell_type": "markdown",
      "metadata": {
        "id": "view-in-github",
        "colab_type": "text"
      },
      "source": [
        "<a href=\"https://colab.research.google.com/github/angelesdz/Estructura-organizacion-de-datos/blob/main/%C3%81rbol.ipynb\" target=\"_parent\"><img src=\"https://colab.research.google.com/assets/colab-badge.svg\" alt=\"Open In Colab\"/></a>"
      ]
    },
    {
      "cell_type": "code",
      "source": [
        "class Arbol(object):\n",
        "  def __init__(self):\n",
        "    self.der= None\n",
        "    self.izq= None\n",
        "    self.dato = None\n",
        "\n",
        "raiz = Arbol()\n",
        "raiz.dato = \"Raiz\"\n",
        "raiz.izq= Arbol()\n",
        "raiz.izq.dato = \"Izquierda\"\n",
        "raiz.der= Arbol()\n",
        "raiz.der.dato= \"Derecha\"\n",
        "\n",
        "raiz.izq.izq= Arbol()\n",
        "raiz.izq.izq.dato= \"Izquierda 2\"\n",
        "raiz.izq.der = Arbol()\n",
        "raiz.izq.der.dato= \"Izquierda - Derecha\"\n",
        "\n",
        "print(raiz.izq.dato)\n",
        "print(raiz.der.dato)\n",
        "print(raiz.dato)\n",
        "print(raiz.izq.der.dato)"
      ],
      "metadata": {
        "colab": {
          "base_uri": "https://localhost:8080/"
        },
        "id": "khvT-FkklDKx",
        "outputId": "0984689d-ca18-4da6-cb07-e58dc01409e3"
      },
      "execution_count": 1,
      "outputs": [
        {
          "output_type": "stream",
          "name": "stdout",
          "text": [
            "Izquierda\n",
            "Derecha\n",
            "Raiz\n",
            "Izquierda - Derecha\n"
          ]
        }
      ]
    }
  ]
}