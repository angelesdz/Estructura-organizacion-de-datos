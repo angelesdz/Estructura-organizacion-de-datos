{
  "nbformat": 4,
  "nbformat_minor": 0,
  "metadata": {
    "colab": {
      "provenance": [],
      "authorship_tag": "ABX9TyM3ulrPSuhIyaPzfgkeNaqW",
      "include_colab_link": true
    },
    "kernelspec": {
      "name": "python3",
      "display_name": "Python 3"
    },
    "language_info": {
      "name": "python"
    }
  },
  "cells": [
    {
      "cell_type": "markdown",
      "metadata": {
        "id": "view-in-github",
        "colab_type": "text"
      },
      "source": [
        "<a href=\"https://colab.research.google.com/github/angelesdz/Estructura-organizacion-de-datos/blob/main/Cola.ipynb\" target=\"_parent\"><img src=\"https://colab.research.google.com/assets/colab-badge.svg\" alt=\"Open In Colab\"/></a>"
      ]
    },
    {
      "cell_type": "code",
      "source": [
        "class Cola:\n",
        "      def __init__(self):\n",
        "        self.items=[]\n",
        "        self.op= 0\n",
        "\n",
        "      def encolar(self, x):\n",
        "        self.items.append(x)\n",
        "\n",
        "      def desencolar(self):\n",
        "        try:\n",
        "          print(self.items.pop(0))\n",
        "          print(self.items)\n",
        "        except:\n",
        "          raise ValueError(\"La cola esta vacía\")\n",
        "      def es_vacia(self):\n",
        "        return self.items == []\n",
        "        print(\"La cola esta vacia\")\n",
        "      \n",
        "      def menu(self):\n",
        "        while self.op !=4:\n",
        "          print(\"Opción 1: Agregar elemento al final\")\n",
        "          print(\"Opción 2: Eliminar primer elemento\")\n",
        "          print(\"Opción 3: Revisar si esta vacia la cola\")\n",
        "          self.op= int(input(\"Elija una opción\"))\n",
        "          if op == 1:\n",
        "              x = input(\"Ingresa un elemento\")\n",
        "              obj.encolar()\n",
        "          elif op == 2:\n",
        "              obj.desencolar()\n",
        "          elif op == 3:\n",
        "              obj.es_vacia()\n",
        "          else:\n",
        "              print(\"Opción incorrecta\")\n",
        "          print(\"ADIOS\")\n",
        "obj= Cola()\n",
        "obj.menu()"
      ],
      "metadata": {
        "colab": {
          "base_uri": "https://localhost:8080/",
          "height": 130
        },
        "id": "7uTWfm2xoYkT",
        "outputId": "e124f870-b325-42d2-9a0c-dd852c5cb9b0"
      },
      "execution_count": null,
      "outputs": [
        {
          "output_type": "error",
          "ename": "IndentationError",
          "evalue": "ignored",
          "traceback": [
            "\u001b[0;36m  File \u001b[0;32m\"<tokenize>\"\u001b[0;36m, line \u001b[0;32m28\u001b[0m\n\u001b[0;31m    elif op == 2:\u001b[0m\n\u001b[0m    ^\u001b[0m\n\u001b[0;31mIndentationError\u001b[0m\u001b[0;31m:\u001b[0m unindent does not match any outer indentation level\n"
          ]
        }
      ]
    }
  ]
}