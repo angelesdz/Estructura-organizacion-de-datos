{
  "nbformat": 4,
  "nbformat_minor": 0,
  "metadata": {
    "colab": {
      "provenance": [],
      "authorship_tag": "ABX9TyMR6KI+cxLzMKpn/h4AUkvl",
      "include_colab_link": true
    },
    "kernelspec": {
      "name": "python3",
      "display_name": "Python 3"
    },
    "language_info": {
      "name": "python"
    }
  },
  "cells": [
    {
      "cell_type": "markdown",
      "metadata": {
        "id": "view-in-github",
        "colab_type": "text"
      },
      "source": [
        "<a href=\"https://colab.research.google.com/github/angelesdz/Estructura-organizacion-de-datos/blob/main/Busqueda_4_D.ipynb\" target=\"_parent\"><img src=\"https://colab.research.google.com/assets/colab-badge.svg\" alt=\"Open In Colab\"/></a>"
      ]
    },
    {
      "cell_type": "code",
      "source": [
        "def agregar(self,clave,valor):\n",
        "    if self.raiz:\n",
        "        self._agregar(clave,valor,self.raiz)\n",
        "    else:\n",
        "        self.raiz = NodoArbol(clave,valor)\n",
        "    self.tamano = self.tamano + 1\n",
        "\n",
        "def _agregar(self,clave,valor,nodoActual):\n",
        "    if clave < nodoActual.clave:\n",
        "        if nodoActual.tieneHijoIzquierdo():\n",
        "               self._agregar(clave,valor,nodoActual.hijoIzquierdo)\n",
        "        else:\n",
        "               nodoActual.hijoIzquierdo = NodoArbol(clave,valor,padre=nodoActual)\n",
        "    else:\n",
        "        if nodoActual.tieneHijoDerecho():\n",
        "               self._agregar(clave,valor,nodoActual.hijoDerecho)\n",
        "        else:\n",
        "               nodoActual.hijoDerecho = NodoArbol(clave,valor,padre=nodoActual)"
      ],
      "metadata": {
        "id": "8TAd_ySTW8cg"
      },
      "execution_count": 2,
      "outputs": []
    }
  ]
}